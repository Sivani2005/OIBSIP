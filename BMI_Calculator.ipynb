{
  "nbformat": 4,
  "nbformat_minor": 0,
  "metadata": {
    "colab": {
      "provenance": [],
      "authorship_tag": "ABX9TyOl5kWzYqq1DJBREwriRTgs",
      "include_colab_link": true
    },
    "kernelspec": {
      "name": "python3",
      "display_name": "Python 3"
    },
    "language_info": {
      "name": "python"
    }
  },
  "cells": [
    {
      "cell_type": "markdown",
      "metadata": {
        "id": "view-in-github",
        "colab_type": "text"
      },
      "source": [
        "<a href=\"https://colab.research.google.com/github/Sivani2005/OIBSIP/blob/main/BMI_Calculator.ipynb\" target=\"_parent\"><img src=\"https://colab.research.google.com/assets/colab-badge.svg\" alt=\"Open In Colab\"/></a>"
      ]
    },
    {
      "cell_type": "code",
      "execution_count": 14,
      "metadata": {
        "colab": {
          "base_uri": "https://localhost:8080/"
        },
        "id": "qzZJk6z0dfvo",
        "outputId": "73af848b-5eae-4028-ec90-3903020e88a3"
      },
      "outputs": [
        {
          "output_type": "stream",
          "name": "stdout",
          "text": [
            "This program is to calculate BMI of an individual.\n",
            "Kindly Enter your full name : Shivani \n",
            "Enter your weight :60\n",
            "Enter your height :2.00\n",
            "Shivani  is underweight by 15.0 BMI \n"
          ]
        }
      ],
      "source": [
        "print(\"This program is to calculate BMI of an individual.\")\n",
        "\n",
        "\n",
        "name = input(\"Kindly Enter your full name : \")\n",
        "weight = float(input (\"Enter your weight :\"))\n",
        "height = float(input (\"Enter your height :\"))\n",
        "\n",
        "bmi = weight / (height ** 2)\n",
        "\n",
        "if bmi < 18.5:\n",
        "     print(f\"{name} is underweight by {bmi} BMI \")\n",
        "\n",
        "else:\n",
        "  if 18.5 < bmi < 24.9:\n",
        "        print(f\"{name} is normal weight by {bmi} BMI \")\n",
        "  else:\n",
        "        print(f\"{name} is overweight by {bmi} BMI \")\n",
        "\n",
        "\n",
        "\n"
      ]
    }
  ]
}