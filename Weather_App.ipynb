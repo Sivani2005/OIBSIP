{
  "nbformat": 4,
  "nbformat_minor": 0,
  "metadata": {
    "colab": {
      "provenance": [],
      "authorship_tag": "ABX9TyN1rjgNmVbwy4ZokljrwFhZ",
      "include_colab_link": true
    },
    "kernelspec": {
      "name": "python3",
      "display_name": "Python 3"
    },
    "language_info": {
      "name": "python"
    }
  },
  "cells": [
    {
      "cell_type": "markdown",
      "metadata": {
        "id": "view-in-github",
        "colab_type": "text"
      },
      "source": [
        "<a href=\"https://colab.research.google.com/github/Sivani2005/OIBSIP/blob/main/Weather_App.ipynb\" target=\"_parent\"><img src=\"https://colab.research.google.com/assets/colab-badge.svg\" alt=\"Open In Colab\"/></a>"
      ]
    },
    {
      "cell_type": "code",
      "execution_count": 1,
      "metadata": {
        "colab": {
          "base_uri": "https://localhost:8080/"
        },
        "id": "7gjIn6jVoCnP",
        "outputId": "fd04d0ad-e6db-4a1d-cf31-216433330d17"
      },
      "outputs": [
        {
          "output_type": "stream",
          "name": "stdout",
          "text": [
            "Requirement already satisfied: requests in /usr/local/lib/python3.10/dist-packages (2.31.0)\n",
            "Requirement already satisfied: charset-normalizer<4,>=2 in /usr/local/lib/python3.10/dist-packages (from requests) (3.3.2)\n",
            "Requirement already satisfied: idna<4,>=2.5 in /usr/local/lib/python3.10/dist-packages (from requests) (3.6)\n",
            "Requirement already satisfied: urllib3<3,>=1.21.1 in /usr/local/lib/python3.10/dist-packages (from requests) (2.0.7)\n",
            "Requirement already satisfied: certifi>=2017.4.17 in /usr/local/lib/python3.10/dist-packages (from requests) (2024.2.2)\n"
          ]
        }
      ],
      "source": [
        "pip install requests\n"
      ]
    },
    {
      "cell_type": "code",
      "source": [
        "import requests\n",
        "\n",
        "api_key = '32ef62f2c1b0d43ed1f84b7813a2240e'\n",
        "\n",
        "user_input = input(\"Enter the city : \")\n",
        "print(user_input)\n",
        "\n",
        "weather_data = requests.get(f\"https://api.openweathermap.org/data/2.5/weather?q={user_input}&units=imperial&APPID={api_key}\")\n",
        "\n",
        "\n",
        "if weather_data.json()['cod'] == '404':\n",
        "    print(\"No City Found\")\n",
        "else:\n",
        "    weather = weather_data.json()['weather'][0]['main']\n",
        "    temp = round(weather_data.json()['main']['temp'])\n",
        "\n",
        "    print(f\"The weather in {user_input} is: {weather}\")\n",
        "    print(f\"The temperature in {user_input} is: {temp}ºF\")\n"
      ],
      "metadata": {
        "colab": {
          "base_uri": "https://localhost:8080/"
        },
        "id": "ucGGHGEZpRxd",
        "outputId": "1b276d66-7a01-4b58-bdd5-6b7d75134c48"
      },
      "execution_count": 10,
      "outputs": [
        {
          "output_type": "stream",
          "name": "stdout",
          "text": [
            "Enter the city : Boston\n",
            "Boston\n",
            "The weather in Boston is: Rain\n",
            "The temperature in Boston is: 62ºF\n"
          ]
        }
      ]
    }
  ]
}