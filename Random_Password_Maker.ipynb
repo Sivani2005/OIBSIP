{
  "nbformat": 4,
  "nbformat_minor": 0,
  "metadata": {
    "colab": {
      "provenance": [],
      "authorship_tag": "ABX9TyPwcTRZdbuVREdhlVdizWWA",
      "include_colab_link": true
    },
    "kernelspec": {
      "name": "python3",
      "display_name": "Python 3"
    },
    "language_info": {
      "name": "python"
    }
  },
  "cells": [
    {
      "cell_type": "markdown",
      "metadata": {
        "id": "view-in-github",
        "colab_type": "text"
      },
      "source": [
        "<a href=\"https://colab.research.google.com/github/Sivani2005/OIBSIP/blob/main/Random_Password_Maker.ipynb\" target=\"_parent\"><img src=\"https://colab.research.google.com/assets/colab-badge.svg\" alt=\"Open In Colab\"/></a>"
      ]
    },
    {
      "cell_type": "code",
      "execution_count": 2,
      "metadata": {
        "colab": {
          "base_uri": "https://localhost:8080/"
        },
        "id": "AUkUkLYFlIqh",
        "outputId": "15841cca-5b7a-4fb5-e1a8-0cf43c8cccd7"
      },
      "outputs": [
        {
          "output_type": "stream",
          "name": "stdout",
          "text": [
            "Enter length : 10\n",
            "Your random password is : :cV'Uk=g;e\n"
          ]
        }
      ],
      "source": [
        "import random\n",
        "import string\n",
        "\n",
        "length = int(input(\"Enter length : \"))\n",
        "\n",
        "\n",
        "chars = string.ascii_letters\n",
        "chars += string.digits\n",
        "chars += string.punctuation\n",
        "\n",
        "password = ''.join([random.choice(chars) for i in range(length)])\n",
        "\n",
        "print(\"Your random password is :\", password)"
      ]
    }
  ]
}